{
 "cells": [
  {
   "cell_type": "markdown",
   "metadata": {},
   "source": [
    "# New York City Taxi Fare Prediction - Challenge from Kaggle"
   ]
  },
  {
   "cell_type": "markdown",
   "metadata": {},
   "source": [
    "## by Juliano Costa - Data Scientist student"
   ]
  },
  {
   "cell_type": "markdown",
   "metadata": {},
   "source": [
    "### Linkedin: https://www.linkedin.com/in/julianocosta/\n"
   ]
  },
  {
   "cell_type": "markdown",
   "metadata": {},
   "source": [
    "### Challenge Goal: Predict fare amount of taxi ride in New York City given the pickup and drofoff locations."
   ]
  },
  {
   "cell_type": "markdown",
   "metadata": {},
   "source": [
    "### Importing necessary libraries"
   ]
  },
  {
   "cell_type": "code",
   "execution_count": null,
   "metadata": {},
   "outputs": [],
   "source": [
    "import pandas as pd ## data processing\n",
    "import numpy as np  ## linear regression"
   ]
  },
  {
   "cell_type": "markdown",
   "metadata": {},
   "source": [
    "### Part 1 - Information about train database"
   ]
  },
  {
   "cell_type": "markdown",
   "metadata": {},
   "source": [
    "#### Database"
   ]
  },
  {
   "cell_type": "code",
   "execution_count": 6,
   "metadata": {},
   "outputs": [],
   "source": [
    "# selecting 10000 records\n",
    "nyc_data = pd.read_csv('train.csv', index_col=0, nrows=10000)"
   ]
  },
  {
   "cell_type": "markdown",
   "metadata": {},
   "source": [
    "#### Information about columns"
   ]
  },
  {
   "cell_type": "code",
   "execution_count": 8,
   "metadata": {},
   "outputs": [
    {
     "name": "stdout",
     "output_type": "stream",
     "text": [
      "<class 'pandas.core.frame.DataFrame'>\n",
      "Index: 10000 entries, 2009-06-15 17:26:21.0000001 to 2011-07-05 06:48:44.0000002\n",
      "Data columns (total 7 columns):\n",
      "fare_amount          10000 non-null float64\n",
      "pickup_datetime      10000 non-null object\n",
      "pickup_longitude     10000 non-null float64\n",
      "pickup_latitude      10000 non-null float64\n",
      "dropoff_longitude    10000 non-null float64\n",
      "dropoff_latitude     10000 non-null float64\n",
      "passenger_count      10000 non-null int64\n",
      "dtypes: float64(5), int64(1), object(1)\n",
      "memory usage: 625.0+ KB\n"
     ]
    }
   ],
   "source": [
    "nyc_data.info()"
   ]
  },
  {
   "cell_type": "markdown",
   "metadata": {},
   "source": [
    "#### This database has 7 columns\n",
    "\n",
    "Fare_amout : Amount of dollars for the taxi ride. Data in US$\n",
    "\n",
    "pickup_datetime: Timestamp of when the taxi ride began. Date in format YYYY-MM-DD HH:MM:SS UTC\n",
    "\n",
    "pickup_longitude: The longitude coordinate of where the taxi ride began.\n",
    "\n",
    "pickup_latitude: The latitude coordinate of where the taxi ride began.\n",
    "\n",
    "dropoff_longitude: The longitude coordinate of where the taxi ride ended.\n",
    "\n",
    "dropoff_latitude: The latitude coordinate of where the taxi ride ended.\n",
    "\n",
    "passenger_count: The number of passengers in the taxi ride. Data in number"
   ]
  },
  {
   "cell_type": "markdown",
   "metadata": {},
   "source": [
    "### List first 10 records"
   ]
  },
  {
   "cell_type": "code",
   "execution_count": 9,
   "metadata": {},
   "outputs": [
    {
     "data": {
      "text/html": [
       "<div>\n",
       "<style scoped>\n",
       "    .dataframe tbody tr th:only-of-type {\n",
       "        vertical-align: middle;\n",
       "    }\n",
       "\n",
       "    .dataframe tbody tr th {\n",
       "        vertical-align: top;\n",
       "    }\n",
       "\n",
       "    .dataframe thead th {\n",
       "        text-align: right;\n",
       "    }\n",
       "</style>\n",
       "<table border=\"1\" class=\"dataframe\">\n",
       "  <thead>\n",
       "    <tr style=\"text-align: right;\">\n",
       "      <th></th>\n",
       "      <th>fare_amount</th>\n",
       "      <th>pickup_datetime</th>\n",
       "      <th>pickup_longitude</th>\n",
       "      <th>pickup_latitude</th>\n",
       "      <th>dropoff_longitude</th>\n",
       "      <th>dropoff_latitude</th>\n",
       "      <th>passenger_count</th>\n",
       "    </tr>\n",
       "    <tr>\n",
       "      <th>key</th>\n",
       "      <th></th>\n",
       "      <th></th>\n",
       "      <th></th>\n",
       "      <th></th>\n",
       "      <th></th>\n",
       "      <th></th>\n",
       "      <th></th>\n",
       "    </tr>\n",
       "  </thead>\n",
       "  <tbody>\n",
       "    <tr>\n",
       "      <th>2009-06-15 17:26:21.0000001</th>\n",
       "      <td>4.5</td>\n",
       "      <td>2009-06-15 17:26:21 UTC</td>\n",
       "      <td>-73.844311</td>\n",
       "      <td>40.721319</td>\n",
       "      <td>-73.841610</td>\n",
       "      <td>40.712278</td>\n",
       "      <td>1</td>\n",
       "    </tr>\n",
       "    <tr>\n",
       "      <th>2010-01-05 16:52:16.0000002</th>\n",
       "      <td>16.9</td>\n",
       "      <td>2010-01-05 16:52:16 UTC</td>\n",
       "      <td>-74.016048</td>\n",
       "      <td>40.711303</td>\n",
       "      <td>-73.979268</td>\n",
       "      <td>40.782004</td>\n",
       "      <td>1</td>\n",
       "    </tr>\n",
       "    <tr>\n",
       "      <th>2011-08-18 00:35:00.00000049</th>\n",
       "      <td>5.7</td>\n",
       "      <td>2011-08-18 00:35:00 UTC</td>\n",
       "      <td>-73.982738</td>\n",
       "      <td>40.761270</td>\n",
       "      <td>-73.991242</td>\n",
       "      <td>40.750562</td>\n",
       "      <td>2</td>\n",
       "    </tr>\n",
       "    <tr>\n",
       "      <th>2012-04-21 04:30:42.0000001</th>\n",
       "      <td>7.7</td>\n",
       "      <td>2012-04-21 04:30:42 UTC</td>\n",
       "      <td>-73.987130</td>\n",
       "      <td>40.733143</td>\n",
       "      <td>-73.991567</td>\n",
       "      <td>40.758092</td>\n",
       "      <td>1</td>\n",
       "    </tr>\n",
       "    <tr>\n",
       "      <th>2010-03-09 07:51:00.000000135</th>\n",
       "      <td>5.3</td>\n",
       "      <td>2010-03-09 07:51:00 UTC</td>\n",
       "      <td>-73.968095</td>\n",
       "      <td>40.768008</td>\n",
       "      <td>-73.956655</td>\n",
       "      <td>40.783762</td>\n",
       "      <td>1</td>\n",
       "    </tr>\n",
       "    <tr>\n",
       "      <th>2011-01-06 09:50:45.0000002</th>\n",
       "      <td>12.1</td>\n",
       "      <td>2011-01-06 09:50:45 UTC</td>\n",
       "      <td>-74.000964</td>\n",
       "      <td>40.731630</td>\n",
       "      <td>-73.972892</td>\n",
       "      <td>40.758233</td>\n",
       "      <td>1</td>\n",
       "    </tr>\n",
       "    <tr>\n",
       "      <th>2012-11-20 20:35:00.0000001</th>\n",
       "      <td>7.5</td>\n",
       "      <td>2012-11-20 20:35:00 UTC</td>\n",
       "      <td>-73.980002</td>\n",
       "      <td>40.751662</td>\n",
       "      <td>-73.973802</td>\n",
       "      <td>40.764842</td>\n",
       "      <td>1</td>\n",
       "    </tr>\n",
       "    <tr>\n",
       "      <th>2012-01-04 17:22:00.00000081</th>\n",
       "      <td>16.5</td>\n",
       "      <td>2012-01-04 17:22:00 UTC</td>\n",
       "      <td>-73.951300</td>\n",
       "      <td>40.774138</td>\n",
       "      <td>-73.990095</td>\n",
       "      <td>40.751048</td>\n",
       "      <td>1</td>\n",
       "    </tr>\n",
       "    <tr>\n",
       "      <th>2012-12-03 13:10:00.000000125</th>\n",
       "      <td>9.0</td>\n",
       "      <td>2012-12-03 13:10:00 UTC</td>\n",
       "      <td>-74.006462</td>\n",
       "      <td>40.726713</td>\n",
       "      <td>-73.993078</td>\n",
       "      <td>40.731628</td>\n",
       "      <td>1</td>\n",
       "    </tr>\n",
       "    <tr>\n",
       "      <th>2009-09-02 01:11:00.00000083</th>\n",
       "      <td>8.9</td>\n",
       "      <td>2009-09-02 01:11:00 UTC</td>\n",
       "      <td>-73.980658</td>\n",
       "      <td>40.733873</td>\n",
       "      <td>-73.991540</td>\n",
       "      <td>40.758138</td>\n",
       "      <td>2</td>\n",
       "    </tr>\n",
       "  </tbody>\n",
       "</table>\n",
       "</div>"
      ],
      "text/plain": [
       "                               fare_amount          pickup_datetime  \\\n",
       "key                                                                   \n",
       "2009-06-15 17:26:21.0000001            4.5  2009-06-15 17:26:21 UTC   \n",
       "2010-01-05 16:52:16.0000002           16.9  2010-01-05 16:52:16 UTC   \n",
       "2011-08-18 00:35:00.00000049           5.7  2011-08-18 00:35:00 UTC   \n",
       "2012-04-21 04:30:42.0000001            7.7  2012-04-21 04:30:42 UTC   \n",
       "2010-03-09 07:51:00.000000135          5.3  2010-03-09 07:51:00 UTC   \n",
       "2011-01-06 09:50:45.0000002           12.1  2011-01-06 09:50:45 UTC   \n",
       "2012-11-20 20:35:00.0000001            7.5  2012-11-20 20:35:00 UTC   \n",
       "2012-01-04 17:22:00.00000081          16.5  2012-01-04 17:22:00 UTC   \n",
       "2012-12-03 13:10:00.000000125          9.0  2012-12-03 13:10:00 UTC   \n",
       "2009-09-02 01:11:00.00000083           8.9  2009-09-02 01:11:00 UTC   \n",
       "\n",
       "                               pickup_longitude  pickup_latitude  \\\n",
       "key                                                                \n",
       "2009-06-15 17:26:21.0000001          -73.844311        40.721319   \n",
       "2010-01-05 16:52:16.0000002          -74.016048        40.711303   \n",
       "2011-08-18 00:35:00.00000049         -73.982738        40.761270   \n",
       "2012-04-21 04:30:42.0000001          -73.987130        40.733143   \n",
       "2010-03-09 07:51:00.000000135        -73.968095        40.768008   \n",
       "2011-01-06 09:50:45.0000002          -74.000964        40.731630   \n",
       "2012-11-20 20:35:00.0000001          -73.980002        40.751662   \n",
       "2012-01-04 17:22:00.00000081         -73.951300        40.774138   \n",
       "2012-12-03 13:10:00.000000125        -74.006462        40.726713   \n",
       "2009-09-02 01:11:00.00000083         -73.980658        40.733873   \n",
       "\n",
       "                               dropoff_longitude  dropoff_latitude  \\\n",
       "key                                                                  \n",
       "2009-06-15 17:26:21.0000001           -73.841610         40.712278   \n",
       "2010-01-05 16:52:16.0000002           -73.979268         40.782004   \n",
       "2011-08-18 00:35:00.00000049          -73.991242         40.750562   \n",
       "2012-04-21 04:30:42.0000001           -73.991567         40.758092   \n",
       "2010-03-09 07:51:00.000000135         -73.956655         40.783762   \n",
       "2011-01-06 09:50:45.0000002           -73.972892         40.758233   \n",
       "2012-11-20 20:35:00.0000001           -73.973802         40.764842   \n",
       "2012-01-04 17:22:00.00000081          -73.990095         40.751048   \n",
       "2012-12-03 13:10:00.000000125         -73.993078         40.731628   \n",
       "2009-09-02 01:11:00.00000083          -73.991540         40.758138   \n",
       "\n",
       "                               passenger_count  \n",
       "key                                             \n",
       "2009-06-15 17:26:21.0000001                  1  \n",
       "2010-01-05 16:52:16.0000002                  1  \n",
       "2011-08-18 00:35:00.00000049                 2  \n",
       "2012-04-21 04:30:42.0000001                  1  \n",
       "2010-03-09 07:51:00.000000135                1  \n",
       "2011-01-06 09:50:45.0000002                  1  \n",
       "2012-11-20 20:35:00.0000001                  1  \n",
       "2012-01-04 17:22:00.00000081                 1  \n",
       "2012-12-03 13:10:00.000000125                1  \n",
       "2009-09-02 01:11:00.00000083                 2  "
      ]
     },
     "execution_count": 9,
     "metadata": {},
     "output_type": "execute_result"
    }
   ],
   "source": [
    "nyc_data.head(10)"
   ]
  },
  {
   "cell_type": "code",
   "execution_count": null,
   "metadata": {},
   "outputs": [],
   "source": []
  }
 ],
 "metadata": {
  "kernelspec": {
   "display_name": "Python 3",
   "language": "python",
   "name": "python3"
  },
  "language_info": {
   "codemirror_mode": {
    "name": "ipython",
    "version": 3
   },
   "file_extension": ".py",
   "mimetype": "text/x-python",
   "name": "python",
   "nbconvert_exporter": "python",
   "pygments_lexer": "ipython3",
   "version": "3.6.5"
  }
 },
 "nbformat": 4,
 "nbformat_minor": 2
}
